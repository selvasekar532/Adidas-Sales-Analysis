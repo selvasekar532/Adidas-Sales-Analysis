{
 "cells": [
  {
   "cell_type": "code",
   "execution_count": 145,
   "id": "48ab321a-5114-496a-ba5d-07a7b40c4250",
   "metadata": {},
   "outputs": [],
   "source": [
    "import pandas as pd\n",
    "import seaborn as sns\n",
    "import matplotlib.pyplot as plt\n",
    "import math"
   ]
  },
  {
   "cell_type": "code",
   "execution_count": 146,
   "id": "7e289a68-3e26-4fbc-bb0c-8e07239b1c48",
   "metadata": {},
   "outputs": [],
   "source": [
    "df = pd.read_excel(\"C:/Users/selva/Downloads/Adidas US Sales Datasets.xlsx\")"
   ]
  },
  {
   "cell_type": "code",
   "execution_count": 147,
   "id": "5fe9766f-4d17-4096-8883-2dccd7fefcc1",
   "metadata": {},
   "outputs": [
    {
     "data": {
      "text/html": [
       "<div>\n",
       "<style scoped>\n",
       "    .dataframe tbody tr th:only-of-type {\n",
       "        vertical-align: middle;\n",
       "    }\n",
       "\n",
       "    .dataframe tbody tr th {\n",
       "        vertical-align: top;\n",
       "    }\n",
       "\n",
       "    .dataframe thead th {\n",
       "        text-align: right;\n",
       "    }\n",
       "</style>\n",
       "<table border=\"1\" class=\"dataframe\">\n",
       "  <thead>\n",
       "    <tr style=\"text-align: right;\">\n",
       "      <th></th>\n",
       "      <th>Retailer</th>\n",
       "      <th>Retailer ID</th>\n",
       "      <th>Invoice Date</th>\n",
       "      <th>Region</th>\n",
       "      <th>State</th>\n",
       "      <th>City</th>\n",
       "      <th>Product</th>\n",
       "      <th>Price per Unit</th>\n",
       "      <th>Units Sold</th>\n",
       "      <th>Total Sales</th>\n",
       "      <th>Operating Profit</th>\n",
       "      <th>Operating Margin</th>\n",
       "      <th>Sales Method</th>\n",
       "    </tr>\n",
       "  </thead>\n",
       "  <tbody>\n",
       "    <tr>\n",
       "      <th>0</th>\n",
       "      <td>Foot Locker</td>\n",
       "      <td>1185732</td>\n",
       "      <td>2020-01-01</td>\n",
       "      <td>Northeast</td>\n",
       "      <td>New York</td>\n",
       "      <td>New York</td>\n",
       "      <td>Men's Street Footwear</td>\n",
       "      <td>50.0</td>\n",
       "      <td>1200</td>\n",
       "      <td>600000.0</td>\n",
       "      <td>300000.0</td>\n",
       "      <td>0.50</td>\n",
       "      <td>In-store</td>\n",
       "    </tr>\n",
       "    <tr>\n",
       "      <th>1</th>\n",
       "      <td>Foot Locker</td>\n",
       "      <td>1185732</td>\n",
       "      <td>2020-01-02</td>\n",
       "      <td>Northeast</td>\n",
       "      <td>New York</td>\n",
       "      <td>New York</td>\n",
       "      <td>Men's Athletic Footwear</td>\n",
       "      <td>50.0</td>\n",
       "      <td>1000</td>\n",
       "      <td>500000.0</td>\n",
       "      <td>150000.0</td>\n",
       "      <td>0.30</td>\n",
       "      <td>In-store</td>\n",
       "    </tr>\n",
       "    <tr>\n",
       "      <th>2</th>\n",
       "      <td>Foot Locker</td>\n",
       "      <td>1185732</td>\n",
       "      <td>2020-01-03</td>\n",
       "      <td>Northeast</td>\n",
       "      <td>New York</td>\n",
       "      <td>New York</td>\n",
       "      <td>Women's Street Footwear</td>\n",
       "      <td>40.0</td>\n",
       "      <td>1000</td>\n",
       "      <td>400000.0</td>\n",
       "      <td>140000.0</td>\n",
       "      <td>0.35</td>\n",
       "      <td>In-store</td>\n",
       "    </tr>\n",
       "    <tr>\n",
       "      <th>3</th>\n",
       "      <td>Foot Locker</td>\n",
       "      <td>1185732</td>\n",
       "      <td>2020-01-04</td>\n",
       "      <td>Northeast</td>\n",
       "      <td>New York</td>\n",
       "      <td>New York</td>\n",
       "      <td>Women's Athletic Footwear</td>\n",
       "      <td>45.0</td>\n",
       "      <td>850</td>\n",
       "      <td>382500.0</td>\n",
       "      <td>133875.0</td>\n",
       "      <td>0.35</td>\n",
       "      <td>In-store</td>\n",
       "    </tr>\n",
       "    <tr>\n",
       "      <th>4</th>\n",
       "      <td>Foot Locker</td>\n",
       "      <td>1185732</td>\n",
       "      <td>2020-01-05</td>\n",
       "      <td>Northeast</td>\n",
       "      <td>New York</td>\n",
       "      <td>New York</td>\n",
       "      <td>Men's Apparel</td>\n",
       "      <td>60.0</td>\n",
       "      <td>900</td>\n",
       "      <td>540000.0</td>\n",
       "      <td>162000.0</td>\n",
       "      <td>0.30</td>\n",
       "      <td>In-store</td>\n",
       "    </tr>\n",
       "  </tbody>\n",
       "</table>\n",
       "</div>"
      ],
      "text/plain": [
       "      Retailer  Retailer ID Invoice Date     Region     State      City  \\\n",
       "0  Foot Locker      1185732   2020-01-01  Northeast  New York  New York   \n",
       "1  Foot Locker      1185732   2020-01-02  Northeast  New York  New York   \n",
       "2  Foot Locker      1185732   2020-01-03  Northeast  New York  New York   \n",
       "3  Foot Locker      1185732   2020-01-04  Northeast  New York  New York   \n",
       "4  Foot Locker      1185732   2020-01-05  Northeast  New York  New York   \n",
       "\n",
       "                     Product  Price per Unit  Units Sold  Total Sales  \\\n",
       "0      Men's Street Footwear            50.0        1200     600000.0   \n",
       "1    Men's Athletic Footwear            50.0        1000     500000.0   \n",
       "2    Women's Street Footwear            40.0        1000     400000.0   \n",
       "3  Women's Athletic Footwear            45.0         850     382500.0   \n",
       "4              Men's Apparel            60.0         900     540000.0   \n",
       "\n",
       "   Operating Profit  Operating Margin Sales Method  \n",
       "0          300000.0              0.50     In-store  \n",
       "1          150000.0              0.30     In-store  \n",
       "2          140000.0              0.35     In-store  \n",
       "3          133875.0              0.35     In-store  \n",
       "4          162000.0              0.30     In-store  "
      ]
     },
     "execution_count": 147,
     "metadata": {},
     "output_type": "execute_result"
    }
   ],
   "source": [
    "df.head()"
   ]
  },
  {
   "cell_type": "code",
   "execution_count": null,
   "id": "69a95553-7f2f-40ac-8333-7f545b907b4c",
   "metadata": {},
   "outputs": [],
   "source": [
    "# Finding the total sales of 2020"
   ]
  },
  {
   "cell_type": "code",
   "execution_count": 158,
   "id": "48cf3f43-e9b0-4149-8656-546e7b28467c",
   "metadata": {},
   "outputs": [
    {
     "data": {
      "text/plain": [
       "182080675.0"
      ]
     },
     "execution_count": 158,
     "metadata": {},
     "output_type": "execute_result"
    }
   ],
   "source": [
    "year_2020 = df[df['Invoice Date'].dt.year == 2020]\n",
    "year_2020['Total Sales'].sum()\n"
   ]
  },
  {
   "cell_type": "code",
   "execution_count": 160,
   "id": "b6e3b1d2-2cc3-4435-86a0-5308bf5e584d",
   "metadata": {},
   "outputs": [
    {
     "data": {
      "text/plain": [
       "717821450.0"
      ]
     },
     "execution_count": 160,
     "metadata": {},
     "output_type": "execute_result"
    }
   ],
   "source": [
    "year_2021 = df[df['Invoice Date'].dt.year == 2021]\n",
    "year_2021['Total Sales'].sum()"
   ]
  },
  {
   "cell_type": "code",
   "execution_count": null,
   "id": "5ec279b7-b91b-4bcd-82b6-59ec5c10e1da",
   "metadata": {},
   "outputs": [],
   "source": [
    "# Finding the total sales of 2021"
   ]
  },
  {
   "cell_type": "code",
   "execution_count": 163,
   "id": "7ab0fbeb-7793-44fc-9f41-cf793ea11b82",
   "metadata": {},
   "outputs": [
    {
     "data": {
      "text/plain": [
       "462349"
      ]
     },
     "execution_count": 163,
     "metadata": {},
     "output_type": "execute_result"
    }
   ],
   "source": [
    "tyear_2020 = df[df['Invoice Date'].dt.year == 2020]\n",
    "tyear_2020['Units Sold'].sum()"
   ]
  },
  {
   "cell_type": "code",
   "execution_count": 164,
   "id": "9d5a1b0f-175a-4c1e-966f-063b9fffc7d9",
   "metadata": {},
   "outputs": [
    {
     "data": {
      "text/plain": [
       "2016512"
      ]
     },
     "execution_count": 164,
     "metadata": {},
     "output_type": "execute_result"
    }
   ],
   "source": [
    "tyear_2021 = df[df['Invoice Date'].dt.year == 2021]\n",
    "tyear_2021['Units Sold'].sum()"
   ]
  },
  {
   "cell_type": "code",
   "execution_count": null,
   "id": "dc4b906f-79bc-49f7-89c0-722173b5129e",
   "metadata": {},
   "outputs": [],
   "source": [
    "# Finding best performing 'region' by sales"
   ]
  },
  {
   "cell_type": "code",
   "execution_count": 172,
   "id": "e7bb6bf9-7e23-4cc4-98ae-d72ba98a9b0f",
   "metadata": {},
   "outputs": [
    {
     "data": {
      "text/plain": [
       "'West'"
      ]
     },
     "execution_count": 172,
     "metadata": {},
     "output_type": "execute_result"
    }
   ],
   "source": [
    "df.groupby('Region')['Total Sales'].sum().idxmax()"
   ]
  },
  {
   "cell_type": "code",
   "execution_count": 170,
   "id": "539fcc06-69b8-4ce7-a7da-46765f0835aa",
   "metadata": {},
   "outputs": [
    {
     "data": {
      "text/plain": [
       "Region\n",
       "West         2448\n",
       "Northeast    2376\n",
       "Midwest      1872\n",
       "South        1728\n",
       "Southeast    1224\n",
       "Name: count, dtype: int64"
      ]
     },
     "execution_count": 170,
     "metadata": {},
     "output_type": "execute_result"
    }
   ],
   "source": [
    "df['Region'].value_counts()"
   ]
  },
  {
   "cell_type": "code",
   "execution_count": null,
   "id": "0a863f04-0d61-48cb-aeeb-3c6294702b6a",
   "metadata": {},
   "outputs": [],
   "source": [
    "# Finding best performing 'Mode of sales' by Total sales"
   ]
  },
  {
   "cell_type": "code",
   "execution_count": 176,
   "id": "9ff2c44c-1fb8-443f-a467-db5621e7ce9a",
   "metadata": {},
   "outputs": [
    {
     "data": {
      "text/plain": [
       "'In-store'"
      ]
     },
     "execution_count": 176,
     "metadata": {},
     "output_type": "execute_result"
    }
   ],
   "source": [
    "df.groupby('Sales Method')['Total Sales'].sum().idxmax()"
   ]
  },
  {
   "cell_type": "code",
   "execution_count": null,
   "id": "315fa5f5-9985-4238-aded-30959cf381fd",
   "metadata": {},
   "outputs": [],
   "source": [
    "# Best selling product by total sales"
   ]
  },
  {
   "cell_type": "code",
   "execution_count": 189,
   "id": "931ca199-4e2a-4754-b517-987750e51527",
   "metadata": {},
   "outputs": [
    {
     "data": {
      "text/plain": [
       "\"Men's Street Footwear\""
      ]
     },
     "execution_count": 189,
     "metadata": {},
     "output_type": "execute_result"
    }
   ],
   "source": [
    "byear_2020 = df[df['Invoice Date'].dt.year == 2020]\n",
    "byear_2020.groupby('Product')['Total Sales'].sum().idxmax()"
   ]
  },
  {
   "cell_type": "code",
   "execution_count": 190,
   "id": "60751d1f-915c-4a7f-8173-8747949d747a",
   "metadata": {},
   "outputs": [
    {
     "data": {
      "text/plain": [
       "\"Men's Street Footwear\""
      ]
     },
     "execution_count": 190,
     "metadata": {},
     "output_type": "execute_result"
    }
   ],
   "source": [
    "byear_2021 = df[df['Invoice Date'].dt.year == 2021]\n",
    "byear_2021.groupby('Product')['Total Sales'].sum().idxmax()"
   ]
  },
  {
   "cell_type": "code",
   "execution_count": 230,
   "id": "1aa0a732-dbf1-416f-83ee-d2941a5fc823",
   "metadata": {},
   "outputs": [
    {
     "data": {
      "text/plain": [
       "Product                    Region   \n",
       "Men's Apparel              Midwest        742604.0\n",
       "                           Northeast     6835166.0\n",
       "                           South         3330444.0\n",
       "                           Southeast     5385967.0\n",
       "                           West          9922783.0\n",
       "Men's Athletic Footwear    Midwest       1167262.0\n",
       "                           Northeast     6513901.0\n",
       "                           South         4834597.0\n",
       "                           Southeast     4890140.0\n",
       "                           West         14388562.0\n",
       "Men's Street Footwear      Midwest       2498746.0\n",
       "                           Northeast     8448329.0\n",
       "                           South         4236960.0\n",
       "                           Southeast     6940445.0\n",
       "                           West         15698540.0\n",
       "Women's Apparel            Midwest       1476050.0\n",
       "                           Northeast     8017686.0\n",
       "                           South         4971779.0\n",
       "                           Southeast     6288715.0\n",
       "                           West         14436102.0\n",
       "Women's Athletic Footwear  Midwest        602229.0\n",
       "                           Northeast     5342849.0\n",
       "                           South         3615124.0\n",
       "                           Southeast     3912727.0\n",
       "                           West         10156963.0\n",
       "Women's Street Footwear    Midwest        891177.0\n",
       "                           Northeast     5591778.0\n",
       "                           South         4467978.0\n",
       "                           Southeast     4182869.0\n",
       "                           West         12292203.0\n",
       "Name: Total Sales, dtype: float64"
      ]
     },
     "execution_count": 230,
     "metadata": {},
     "output_type": "execute_result"
    }
   ],
   "source": [
    "top_y = df[df['Invoice Date'].dt.year == 2020]\n",
    "top_y.groupby(['Product','Region'])['Total Sales'].sum()"
   ]
  },
  {
   "cell_type": "code",
   "execution_count": 221,
   "id": "6a290f0c-9b0d-45cd-bdbd-541348fa0916",
   "metadata": {},
   "outputs": [
    {
     "data": {
      "text/html": [
       "<div>\n",
       "<style scoped>\n",
       "    .dataframe tbody tr th:only-of-type {\n",
       "        vertical-align: middle;\n",
       "    }\n",
       "\n",
       "    .dataframe tbody tr th {\n",
       "        vertical-align: top;\n",
       "    }\n",
       "\n",
       "    .dataframe thead th {\n",
       "        text-align: right;\n",
       "    }\n",
       "</style>\n",
       "<table border=\"1\" class=\"dataframe\">\n",
       "  <thead>\n",
       "    <tr style=\"text-align: right;\">\n",
       "      <th></th>\n",
       "      <th>Region</th>\n",
       "      <th>Product</th>\n",
       "    </tr>\n",
       "  </thead>\n",
       "  <tbody>\n",
       "    <tr>\n",
       "      <th>0</th>\n",
       "      <td>Northeast</td>\n",
       "      <td>Men's Street Footwear</td>\n",
       "    </tr>\n",
       "    <tr>\n",
       "      <th>1</th>\n",
       "      <td>Northeast</td>\n",
       "      <td>Men's Athletic Footwear</td>\n",
       "    </tr>\n",
       "    <tr>\n",
       "      <th>2</th>\n",
       "      <td>Northeast</td>\n",
       "      <td>Women's Street Footwear</td>\n",
       "    </tr>\n",
       "    <tr>\n",
       "      <th>3</th>\n",
       "      <td>Northeast</td>\n",
       "      <td>Women's Athletic Footwear</td>\n",
       "    </tr>\n",
       "    <tr>\n",
       "      <th>4</th>\n",
       "      <td>Northeast</td>\n",
       "      <td>Men's Apparel</td>\n",
       "    </tr>\n",
       "    <tr>\n",
       "      <th>...</th>\n",
       "      <td>...</td>\n",
       "      <td>...</td>\n",
       "    </tr>\n",
       "    <tr>\n",
       "      <th>9643</th>\n",
       "      <td>Northeast</td>\n",
       "      <td>Men's Apparel</td>\n",
       "    </tr>\n",
       "    <tr>\n",
       "      <th>9644</th>\n",
       "      <td>Northeast</td>\n",
       "      <td>Women's Apparel</td>\n",
       "    </tr>\n",
       "    <tr>\n",
       "      <th>9645</th>\n",
       "      <td>Northeast</td>\n",
       "      <td>Men's Street Footwear</td>\n",
       "    </tr>\n",
       "    <tr>\n",
       "      <th>9646</th>\n",
       "      <td>Northeast</td>\n",
       "      <td>Men's Athletic Footwear</td>\n",
       "    </tr>\n",
       "    <tr>\n",
       "      <th>9647</th>\n",
       "      <td>Northeast</td>\n",
       "      <td>Women's Street Footwear</td>\n",
       "    </tr>\n",
       "  </tbody>\n",
       "</table>\n",
       "<p>9648 rows × 2 columns</p>\n",
       "</div>"
      ],
      "text/plain": [
       "         Region                    Product\n",
       "0     Northeast      Men's Street Footwear\n",
       "1     Northeast    Men's Athletic Footwear\n",
       "2     Northeast    Women's Street Footwear\n",
       "3     Northeast  Women's Athletic Footwear\n",
       "4     Northeast              Men's Apparel\n",
       "...         ...                        ...\n",
       "9643  Northeast              Men's Apparel\n",
       "9644  Northeast            Women's Apparel\n",
       "9645  Northeast      Men's Street Footwear\n",
       "9646  Northeast    Men's Athletic Footwear\n",
       "9647  Northeast    Women's Street Footwear\n",
       "\n",
       "[9648 rows x 2 columns]"
      ]
     },
     "execution_count": 221,
     "metadata": {},
     "output_type": "execute_result"
    }
   ],
   "source": [
    "df[['Region','Product']]"
   ]
  },
  {
   "cell_type": "code",
   "execution_count": null,
   "id": "003d302a-934b-412a-b040-88f44352d935",
   "metadata": {},
   "outputs": [],
   "source": []
  },
  {
   "cell_type": "code",
   "execution_count": null,
   "id": "1bc49ef4-73fd-419f-aa03-448ab2bbbc6a",
   "metadata": {},
   "outputs": [],
   "source": []
  },
  {
   "cell_type": "code",
   "execution_count": null,
   "id": "b83075c9-c725-4d56-b9be-78f7ce01c956",
   "metadata": {},
   "outputs": [],
   "source": []
  },
  {
   "cell_type": "code",
   "execution_count": null,
   "id": "a436f9d2-7069-4e34-a397-5165d6758e51",
   "metadata": {},
   "outputs": [],
   "source": []
  },
  {
   "cell_type": "code",
   "execution_count": null,
   "id": "558aa8a3-eb1a-41ce-80d2-cc5831ecfe1c",
   "metadata": {},
   "outputs": [],
   "source": []
  },
  {
   "cell_type": "code",
   "execution_count": null,
   "id": "a502598f-99e6-49ec-a782-785570d93d69",
   "metadata": {},
   "outputs": [],
   "source": []
  },
  {
   "cell_type": "code",
   "execution_count": null,
   "id": "43c36360-bbc1-4788-928b-8e34fdd3676e",
   "metadata": {},
   "outputs": [],
   "source": []
  },
  {
   "cell_type": "code",
   "execution_count": null,
   "id": "c6eb848d-31da-474f-8bc5-730f9e5745f9",
   "metadata": {},
   "outputs": [],
   "source": []
  },
  {
   "cell_type": "code",
   "execution_count": null,
   "id": "e22cd99c-6b69-4361-8e56-297c7728ffa8",
   "metadata": {},
   "outputs": [],
   "source": []
  },
  {
   "cell_type": "code",
   "execution_count": null,
   "id": "19c6f08d-ad14-4e83-b8c3-347faaad7467",
   "metadata": {},
   "outputs": [],
   "source": []
  },
  {
   "cell_type": "code",
   "execution_count": null,
   "id": "1c9adba8-d956-4202-af81-b3d43dd3d950",
   "metadata": {},
   "outputs": [],
   "source": []
  },
  {
   "cell_type": "code",
   "execution_count": null,
   "id": "ff0be4f6-dfea-4fb4-aa07-9c5f42e47b92",
   "metadata": {},
   "outputs": [],
   "source": []
  },
  {
   "cell_type": "code",
   "execution_count": null,
   "id": "0f14f1af-d11b-4906-b0af-8f0214df0e82",
   "metadata": {},
   "outputs": [],
   "source": []
  },
  {
   "cell_type": "code",
   "execution_count": null,
   "id": "5c6dc9d5-14e4-423c-af87-ebd6b33265ee",
   "metadata": {},
   "outputs": [],
   "source": []
  },
  {
   "cell_type": "code",
   "execution_count": null,
   "id": "08ae1362-96c2-4023-b9ab-5bd83b9895f9",
   "metadata": {},
   "outputs": [],
   "source": []
  },
  {
   "cell_type": "code",
   "execution_count": null,
   "id": "43ca9ced-dae8-40e7-93be-bd56a97c8b17",
   "metadata": {},
   "outputs": [],
   "source": []
  },
  {
   "cell_type": "code",
   "execution_count": null,
   "id": "ce0254e0-822b-4f64-96c0-7352d157d519",
   "metadata": {},
   "outputs": [],
   "source": []
  },
  {
   "cell_type": "code",
   "execution_count": null,
   "id": "04364fad-7ab8-4542-b8df-e0551476f8cb",
   "metadata": {},
   "outputs": [],
   "source": []
  },
  {
   "cell_type": "code",
   "execution_count": null,
   "id": "52abdae9-5f32-4e15-bf48-d92df4296327",
   "metadata": {},
   "outputs": [],
   "source": []
  },
  {
   "cell_type": "code",
   "execution_count": null,
   "id": "b006cb8c-9794-43b0-b9ab-4b75dbac7cba",
   "metadata": {},
   "outputs": [],
   "source": []
  }
 ],
 "metadata": {
  "kernelspec": {
   "display_name": "Python 3 (ipykernel)",
   "language": "python",
   "name": "python3"
  },
  "language_info": {
   "codemirror_mode": {
    "name": "ipython",
    "version": 3
   },
   "file_extension": ".py",
   "mimetype": "text/x-python",
   "name": "python",
   "nbconvert_exporter": "python",
   "pygments_lexer": "ipython3",
   "version": "3.11.7"
  }
 },
 "nbformat": 4,
 "nbformat_minor": 5
}
